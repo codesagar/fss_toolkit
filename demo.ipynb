{
 "cells": [
  {
   "cell_type": "markdown",
   "metadata": {},
   "source": [
    "## Loading data\n",
    "- 735 datapoints each having 24 features for 60 timesteps\n",
    "- data.shape => (735,60,24)  => (datapoints, timesteps, features)"
   ]
  },
  {
   "cell_type": "code",
   "execution_count": 1,
   "metadata": {},
   "outputs": [],
   "source": [
    "import pandas as pd\n",
    "import numpy as np\n",
    "data = np.load(\"sample_data.npz\")"
   ]
  },
  {
   "cell_type": "markdown",
   "metadata": {},
   "source": [
    "### FSS on TS data (3 dimentions)"
   ]
  },
  {
   "cell_type": "markdown",
   "metadata": {},
   "source": [
    "### FCBF - Fast Correlation Based Filter "
   ]
  },
  {
   "cell_type": "code",
   "execution_count": 21,
   "metadata": {},
   "outputs": [
    {
     "data": {
      "text/html": [
       "<div>\n",
       "<style scoped>\n",
       "    .dataframe tbody tr th:only-of-type {\n",
       "        vertical-align: middle;\n",
       "    }\n",
       "\n",
       "    .dataframe tbody tr th {\n",
       "        vertical-align: top;\n",
       "    }\n",
       "\n",
       "    .dataframe thead th {\n",
       "        text-align: right;\n",
       "    }\n",
       "</style>\n",
       "<table border=\"1\" class=\"dataframe\">\n",
       "  <thead>\n",
       "    <tr style=\"text-align: right;\">\n",
       "      <th></th>\n",
       "      <th>Feature</th>\n",
       "      <th>Score</th>\n",
       "    </tr>\n",
       "  </thead>\n",
       "  <tbody>\n",
       "    <tr>\n",
       "      <th>0</th>\n",
       "      <td>R_VALUE</td>\n",
       "      <td>0.206089</td>\n",
       "    </tr>\n",
       "    <tr>\n",
       "      <th>1</th>\n",
       "      <td>SHRGT45</td>\n",
       "      <td>0.121955</td>\n",
       "    </tr>\n",
       "    <tr>\n",
       "      <th>2</th>\n",
       "      <td>TOTUSJH</td>\n",
       "      <td>0.118166</td>\n",
       "    </tr>\n",
       "    <tr>\n",
       "      <th>3</th>\n",
       "      <td>TOTBSQ</td>\n",
       "      <td>0.118166</td>\n",
       "    </tr>\n",
       "    <tr>\n",
       "      <th>4</th>\n",
       "      <td>TOTUSJZ</td>\n",
       "      <td>0.118166</td>\n",
       "    </tr>\n",
       "  </tbody>\n",
       "</table>\n",
       "</div>"
      ],
      "text/plain": [
       "   Feature     Score\n",
       "0  R_VALUE  0.206089\n",
       "1  SHRGT45  0.121955\n",
       "2  TOTUSJH  0.118166\n",
       "3   TOTBSQ  0.118166\n",
       "4  TOTUSJZ  0.118166"
      ]
     },
     "execution_count": 21,
     "metadata": {},
     "output_type": "execute_result"
    }
   ],
   "source": [
    "from src.fss.fcbf.fcbf import FCBF\n",
    "fcbf = FCBF(data=data)    ## data is dictionary with 2 keys \"np_data\" having 3d numpy data and \"subclass\" corresponding to target classes\n",
    "fcbf_rank = fcbf.rank()\n",
    "fcbf_rank.head()"
   ]
  },
  {
   "cell_type": "markdown",
   "metadata": {},
   "source": [
    "## CSFS"
   ]
  },
  {
   "cell_type": "code",
   "execution_count": 24,
   "metadata": {},
   "outputs": [],
   "source": [
    "# from src.fss.csfs.csfs import CSFS\n",
    "# csfs = CSFS(data=data)    ## data is dictionary with 2 keys \"np_data\" having 3d numpy data and \"subclass\" corresponding to target classes\n",
    "# csfs_rank = csfs.rank()\n",
    "# csfs_rank.head()"
   ]
  },
  {
   "cell_type": "markdown",
   "metadata": {},
   "source": [
    "## Vectorizing data\n",
    "- (735,60,24) -> (735,168)\n",
    "- where 168 corresponds represents 24 features with 7 statistical features each"
   ]
  },
  {
   "cell_type": "code",
   "execution_count": 2,
   "metadata": {},
   "outputs": [
    {
     "name": "stdout",
     "output_type": "stream",
     "text": [
      "(735, 168)\n"
     ]
    },
    {
     "data": {
      "text/html": [
       "<div>\n",
       "<style scoped>\n",
       "    .dataframe tbody tr th:only-of-type {\n",
       "        vertical-align: middle;\n",
       "    }\n",
       "\n",
       "    .dataframe tbody tr th {\n",
       "        vertical-align: top;\n",
       "    }\n",
       "\n",
       "    .dataframe thead th {\n",
       "        text-align: right;\n",
       "    }\n",
       "</style>\n",
       "<table border=\"1\" class=\"dataframe\">\n",
       "  <thead>\n",
       "    <tr style=\"text-align: right;\">\n",
       "      <th></th>\n",
       "      <th>TOTUSJH_min</th>\n",
       "      <th>TOTBSQ_min</th>\n",
       "      <th>TOTPOT_min</th>\n",
       "      <th>TOTUSJZ_min</th>\n",
       "      <th>ABSNJZH_min</th>\n",
       "      <th>SAVNCPP_min</th>\n",
       "      <th>USFLUX_min</th>\n",
       "      <th>TOTFZ_min</th>\n",
       "      <th>MEANPOT_min</th>\n",
       "      <th>EPSZ_min</th>\n",
       "      <th>...</th>\n",
       "      <th>MEANGBZ_kurtosis</th>\n",
       "      <th>MEANGBH_kurtosis</th>\n",
       "      <th>MEANJZH_kurtosis</th>\n",
       "      <th>TOTFY_kurtosis</th>\n",
       "      <th>MEANJZD_kurtosis</th>\n",
       "      <th>MEANALP_kurtosis</th>\n",
       "      <th>TOTFX_kurtosis</th>\n",
       "      <th>EPSY_kurtosis</th>\n",
       "      <th>EPSX_kurtosis</th>\n",
       "      <th>R_VALUE_kurtosis</th>\n",
       "    </tr>\n",
       "  </thead>\n",
       "  <tbody>\n",
       "    <tr>\n",
       "      <th>0</th>\n",
       "      <td>0.230355</td>\n",
       "      <td>0.617412</td>\n",
       "      <td>0.001986</td>\n",
       "      <td>0.151498</td>\n",
       "      <td>0.016560</td>\n",
       "      <td>0.024169</td>\n",
       "      <td>0.535292</td>\n",
       "      <td>0.405347</td>\n",
       "      <td>0.000019</td>\n",
       "      <td>0.435331</td>\n",
       "      <td>...</td>\n",
       "      <td>-0.795735</td>\n",
       "      <td>-0.658184</td>\n",
       "      <td>0.375842</td>\n",
       "      <td>-1.286032</td>\n",
       "      <td>0.401637</td>\n",
       "      <td>0.424243</td>\n",
       "      <td>-1.060712</td>\n",
       "      <td>-1.220763</td>\n",
       "      <td>-1.582090</td>\n",
       "      <td>-1.045090</td>\n",
       "    </tr>\n",
       "    <tr>\n",
       "      <th>1</th>\n",
       "      <td>0.040939</td>\n",
       "      <td>0.060785</td>\n",
       "      <td>0.000104</td>\n",
       "      <td>0.029220</td>\n",
       "      <td>0.023403</td>\n",
       "      <td>0.055886</td>\n",
       "      <td>0.091372</td>\n",
       "      <td>0.730117</td>\n",
       "      <td>0.000005</td>\n",
       "      <td>0.273792</td>\n",
       "      <td>...</td>\n",
       "      <td>-0.839596</td>\n",
       "      <td>-0.248791</td>\n",
       "      <td>0.762418</td>\n",
       "      <td>-0.712628</td>\n",
       "      <td>0.118049</td>\n",
       "      <td>0.732245</td>\n",
       "      <td>-0.973002</td>\n",
       "      <td>-0.756112</td>\n",
       "      <td>-0.506833</td>\n",
       "      <td>-0.998586</td>\n",
       "    </tr>\n",
       "    <tr>\n",
       "      <th>2</th>\n",
       "      <td>0.130190</td>\n",
       "      <td>0.419234</td>\n",
       "      <td>0.000963</td>\n",
       "      <td>0.090657</td>\n",
       "      <td>0.045061</td>\n",
       "      <td>0.028980</td>\n",
       "      <td>0.512086</td>\n",
       "      <td>0.305961</td>\n",
       "      <td>0.000009</td>\n",
       "      <td>0.327511</td>\n",
       "      <td>...</td>\n",
       "      <td>-0.018930</td>\n",
       "      <td>-0.873333</td>\n",
       "      <td>-1.380979</td>\n",
       "      <td>-0.815605</td>\n",
       "      <td>-0.577776</td>\n",
       "      <td>-1.296177</td>\n",
       "      <td>-1.018526</td>\n",
       "      <td>-0.871618</td>\n",
       "      <td>-1.092397</td>\n",
       "      <td>-1.552892</td>\n",
       "    </tr>\n",
       "    <tr>\n",
       "      <th>3</th>\n",
       "      <td>0.121122</td>\n",
       "      <td>0.317159</td>\n",
       "      <td>0.001095</td>\n",
       "      <td>0.084523</td>\n",
       "      <td>0.001628</td>\n",
       "      <td>0.052470</td>\n",
       "      <td>0.231725</td>\n",
       "      <td>0.766656</td>\n",
       "      <td>0.000023</td>\n",
       "      <td>0.513382</td>\n",
       "      <td>...</td>\n",
       "      <td>-1.365317</td>\n",
       "      <td>-1.434476</td>\n",
       "      <td>-0.256338</td>\n",
       "      <td>-1.151957</td>\n",
       "      <td>-0.488195</td>\n",
       "      <td>0.150881</td>\n",
       "      <td>-1.283992</td>\n",
       "      <td>-1.207040</td>\n",
       "      <td>-1.272945</td>\n",
       "      <td>-0.822295</td>\n",
       "    </tr>\n",
       "    <tr>\n",
       "      <th>4</th>\n",
       "      <td>0.114146</td>\n",
       "      <td>0.331614</td>\n",
       "      <td>0.000917</td>\n",
       "      <td>0.075171</td>\n",
       "      <td>0.288566</td>\n",
       "      <td>0.266177</td>\n",
       "      <td>0.288001</td>\n",
       "      <td>0.578099</td>\n",
       "      <td>0.000016</td>\n",
       "      <td>0.408842</td>\n",
       "      <td>...</td>\n",
       "      <td>-1.132442</td>\n",
       "      <td>-0.997534</td>\n",
       "      <td>-0.928597</td>\n",
       "      <td>-1.441214</td>\n",
       "      <td>-0.945731</td>\n",
       "      <td>-0.581695</td>\n",
       "      <td>-0.880224</td>\n",
       "      <td>-1.518133</td>\n",
       "      <td>0.305576</td>\n",
       "      <td>-0.742629</td>\n",
       "    </tr>\n",
       "  </tbody>\n",
       "</table>\n",
       "<p>5 rows × 168 columns</p>\n",
       "</div>"
      ],
      "text/plain": [
       "   TOTUSJH_min  TOTBSQ_min  TOTPOT_min  TOTUSJZ_min  ABSNJZH_min  SAVNCPP_min  \\\n",
       "0     0.230355    0.617412    0.001986     0.151498     0.016560     0.024169   \n",
       "1     0.040939    0.060785    0.000104     0.029220     0.023403     0.055886   \n",
       "2     0.130190    0.419234    0.000963     0.090657     0.045061     0.028980   \n",
       "3     0.121122    0.317159    0.001095     0.084523     0.001628     0.052470   \n",
       "4     0.114146    0.331614    0.000917     0.075171     0.288566     0.266177   \n",
       "\n",
       "   USFLUX_min  TOTFZ_min  MEANPOT_min  EPSZ_min  ...  MEANGBZ_kurtosis  \\\n",
       "0    0.535292   0.405347     0.000019  0.435331  ...         -0.795735   \n",
       "1    0.091372   0.730117     0.000005  0.273792  ...         -0.839596   \n",
       "2    0.512086   0.305961     0.000009  0.327511  ...         -0.018930   \n",
       "3    0.231725   0.766656     0.000023  0.513382  ...         -1.365317   \n",
       "4    0.288001   0.578099     0.000016  0.408842  ...         -1.132442   \n",
       "\n",
       "   MEANGBH_kurtosis  MEANJZH_kurtosis  TOTFY_kurtosis  MEANJZD_kurtosis  \\\n",
       "0         -0.658184          0.375842       -1.286032          0.401637   \n",
       "1         -0.248791          0.762418       -0.712628          0.118049   \n",
       "2         -0.873333         -1.380979       -0.815605         -0.577776   \n",
       "3         -1.434476         -0.256338       -1.151957         -0.488195   \n",
       "4         -0.997534         -0.928597       -1.441214         -0.945731   \n",
       "\n",
       "   MEANALP_kurtosis  TOTFX_kurtosis  EPSY_kurtosis  EPSX_kurtosis  \\\n",
       "0          0.424243       -1.060712      -1.220763      -1.582090   \n",
       "1          0.732245       -0.973002      -0.756112      -0.506833   \n",
       "2         -1.296177       -1.018526      -0.871618      -1.092397   \n",
       "3          0.150881       -1.283992      -1.207040      -1.272945   \n",
       "4         -0.581695       -0.880224      -1.518133       0.305576   \n",
       "\n",
       "   R_VALUE_kurtosis  \n",
       "0         -1.045090  \n",
       "1         -0.998586  \n",
       "2         -1.552892  \n",
       "3         -0.822295  \n",
       "4         -0.742629  \n",
       "\n",
       "[5 rows x 168 columns]"
      ]
     },
     "execution_count": 2,
     "metadata": {},
     "output_type": "execute_result"
    }
   ],
   "source": [
    "from src.preprocessing.vectorize import vectorize\n",
    "vectorized_data = vectorize(data['np_data'])\n",
    "print(vectorized_data.shape)\n",
    "vectorized_data.head()"
   ]
  },
  {
   "cell_type": "markdown",
   "metadata": {},
   "source": [
    "## Binarizing target"
   ]
  },
  {
   "cell_type": "code",
   "execution_count": 3,
   "metadata": {},
   "outputs": [],
   "source": [
    "y_train_bin = np.where(data['target']=='NF',0,1)"
   ]
  },
  {
   "cell_type": "markdown",
   "metadata": {},
   "source": [
    "### MRMR - Maximum Relevance Minimum Redundancy"
   ]
  },
  {
   "cell_type": "code",
   "execution_count": 18,
   "metadata": {},
   "outputs": [
    {
     "name": "stderr",
     "output_type": "stream",
     "text": [
      "100%|██████████| 168/168 [00:04<00:00, 36.03it/s]\n"
     ]
    },
    {
     "data": {
      "text/html": [
       "<div>\n",
       "<style scoped>\n",
       "    .dataframe tbody tr th:only-of-type {\n",
       "        vertical-align: middle;\n",
       "    }\n",
       "\n",
       "    .dataframe tbody tr th {\n",
       "        vertical-align: top;\n",
       "    }\n",
       "\n",
       "    .dataframe thead th {\n",
       "        text-align: right;\n",
       "    }\n",
       "</style>\n",
       "<table border=\"1\" class=\"dataframe\">\n",
       "  <thead>\n",
       "    <tr style=\"text-align: right;\">\n",
       "      <th></th>\n",
       "      <th>Feature</th>\n",
       "      <th>Score</th>\n",
       "    </tr>\n",
       "  </thead>\n",
       "  <tbody>\n",
       "    <tr>\n",
       "      <th>0</th>\n",
       "      <td>TOTBSQ</td>\n",
       "      <td>0.024221</td>\n",
       "    </tr>\n",
       "    <tr>\n",
       "      <th>1</th>\n",
       "      <td>ABSNJZH</td>\n",
       "      <td>0.023333</td>\n",
       "    </tr>\n",
       "    <tr>\n",
       "      <th>2</th>\n",
       "      <td>TOTPOT</td>\n",
       "      <td>0.020528</td>\n",
       "    </tr>\n",
       "    <tr>\n",
       "      <th>3</th>\n",
       "      <td>USFLUX</td>\n",
       "      <td>0.020173</td>\n",
       "    </tr>\n",
       "    <tr>\n",
       "      <th>4</th>\n",
       "      <td>TOTUSJH</td>\n",
       "      <td>0.019718</td>\n",
       "    </tr>\n",
       "  </tbody>\n",
       "</table>\n",
       "</div>"
      ],
      "text/plain": [
       "   Feature     Score\n",
       "0   TOTBSQ  0.024221\n",
       "1  ABSNJZH  0.023333\n",
       "2   TOTPOT  0.020528\n",
       "3   USFLUX  0.020173\n",
       "4  TOTUSJH  0.019718"
      ]
     },
     "execution_count": 18,
     "metadata": {},
     "output_type": "execute_result"
    }
   ],
   "source": [
    "from src.fss.mrmr.mrmr import mrmr_ranking\n",
    "mrmr_rank = mrmr_ranking(vectorized_data, y_train_bin)\n",
    "mrmr_rank.head()\n"
   ]
  },
  {
   "cell_type": "markdown",
   "metadata": {},
   "source": [
    "### RelieF"
   ]
  },
  {
   "cell_type": "code",
   "execution_count": 19,
   "metadata": {},
   "outputs": [
    {
     "data": {
      "text/html": [
       "<div>\n",
       "<style scoped>\n",
       "    .dataframe tbody tr th:only-of-type {\n",
       "        vertical-align: middle;\n",
       "    }\n",
       "\n",
       "    .dataframe tbody tr th {\n",
       "        vertical-align: top;\n",
       "    }\n",
       "\n",
       "    .dataframe thead th {\n",
       "        text-align: right;\n",
       "    }\n",
       "</style>\n",
       "<table border=\"1\" class=\"dataframe\">\n",
       "  <thead>\n",
       "    <tr style=\"text-align: right;\">\n",
       "      <th></th>\n",
       "      <th>feature</th>\n",
       "      <th>Score</th>\n",
       "    </tr>\n",
       "  </thead>\n",
       "  <tbody>\n",
       "    <tr>\n",
       "      <th>0</th>\n",
       "      <td>R_VALUE</td>\n",
       "      <td>0.019608</td>\n",
       "    </tr>\n",
       "    <tr>\n",
       "      <th>1</th>\n",
       "      <td>EPSX</td>\n",
       "      <td>0.016990</td>\n",
       "    </tr>\n",
       "    <tr>\n",
       "      <th>2</th>\n",
       "      <td>EPSZ</td>\n",
       "      <td>0.016588</td>\n",
       "    </tr>\n",
       "    <tr>\n",
       "      <th>3</th>\n",
       "      <td>SHRGT45</td>\n",
       "      <td>0.015590</td>\n",
       "    </tr>\n",
       "    <tr>\n",
       "      <th>4</th>\n",
       "      <td>TOTFX</td>\n",
       "      <td>0.014957</td>\n",
       "    </tr>\n",
       "  </tbody>\n",
       "</table>\n",
       "</div>"
      ],
      "text/plain": [
       "   feature     Score\n",
       "0  R_VALUE  0.019608\n",
       "1     EPSX  0.016990\n",
       "2     EPSZ  0.016588\n",
       "3  SHRGT45  0.015590\n",
       "4    TOTFX  0.014957"
      ]
     },
     "execution_count": 19,
     "metadata": {},
     "output_type": "execute_result"
    }
   ],
   "source": [
    "from src.fss.relief.relief import relief_ranking\n",
    "relief_rank = relief_ranking(vectorized_data, y_train_bin)\n",
    "relief_rank.head()\n"
   ]
  },
  {
   "cell_type": "markdown",
   "metadata": {},
   "source": [
    "### Recursive Feature Elimination with Logistic Regression"
   ]
  },
  {
   "cell_type": "code",
   "execution_count": 26,
   "metadata": {},
   "outputs": [
    {
     "data": {
      "text/html": [
       "<div>\n",
       "<style scoped>\n",
       "    .dataframe tbody tr th:only-of-type {\n",
       "        vertical-align: middle;\n",
       "    }\n",
       "\n",
       "    .dataframe tbody tr th {\n",
       "        vertical-align: top;\n",
       "    }\n",
       "\n",
       "    .dataframe thead th {\n",
       "        text-align: right;\n",
       "    }\n",
       "</style>\n",
       "<table border=\"1\" class=\"dataframe\">\n",
       "  <thead>\n",
       "    <tr style=\"text-align: right;\">\n",
       "      <th></th>\n",
       "      <th>feature</th>\n",
       "      <th>Score</th>\n",
       "    </tr>\n",
       "  </thead>\n",
       "  <tbody>\n",
       "    <tr>\n",
       "      <th>0</th>\n",
       "      <td>TOTBSQ</td>\n",
       "      <td>0.050000</td>\n",
       "    </tr>\n",
       "    <tr>\n",
       "      <th>1</th>\n",
       "      <td>TOTFY</td>\n",
       "      <td>0.043210</td>\n",
       "    </tr>\n",
       "    <tr>\n",
       "      <th>2</th>\n",
       "      <td>TOTFZ</td>\n",
       "      <td>0.040936</td>\n",
       "    </tr>\n",
       "    <tr>\n",
       "      <th>3</th>\n",
       "      <td>MEANJZH</td>\n",
       "      <td>0.030837</td>\n",
       "    </tr>\n",
       "    <tr>\n",
       "      <th>4</th>\n",
       "      <td>SHRGT45</td>\n",
       "      <td>0.029536</td>\n",
       "    </tr>\n",
       "  </tbody>\n",
       "</table>\n",
       "</div>"
      ],
      "text/plain": [
       "   feature     Score\n",
       "0   TOTBSQ  0.050000\n",
       "1    TOTFY  0.043210\n",
       "2    TOTFZ  0.040936\n",
       "3  MEANJZH  0.030837\n",
       "4  SHRGT45  0.029536"
      ]
     },
     "execution_count": 26,
     "metadata": {},
     "output_type": "execute_result"
    }
   ],
   "source": [
    "from sklearn.linear_model import LogisticRegression\n",
    "from src.fss.rfe.rfe import rfe_rank\n",
    "\n",
    "\n",
    "logistic = LogisticRegression(solver='liblinear',random_state=777)\n",
    "rfe_logistic_ranks = rfe_rank(logistic, vectorized_data, y_train_bin)\n",
    "rfe_logistic_ranks.head()"
   ]
  },
  {
   "cell_type": "markdown",
   "metadata": {},
   "source": [
    "### Select From Model with RandomForest"
   ]
  },
  {
   "cell_type": "code",
   "execution_count": 5,
   "metadata": {},
   "outputs": [
    {
     "data": {
      "text/html": [
       "<div>\n",
       "<style scoped>\n",
       "    .dataframe tbody tr th:only-of-type {\n",
       "        vertical-align: middle;\n",
       "    }\n",
       "\n",
       "    .dataframe tbody tr th {\n",
       "        vertical-align: top;\n",
       "    }\n",
       "\n",
       "    .dataframe thead th {\n",
       "        text-align: right;\n",
       "    }\n",
       "</style>\n",
       "<table border=\"1\" class=\"dataframe\">\n",
       "  <thead>\n",
       "    <tr style=\"text-align: right;\">\n",
       "      <th></th>\n",
       "      <th>Feature</th>\n",
       "      <th>Score</th>\n",
       "    </tr>\n",
       "  </thead>\n",
       "  <tbody>\n",
       "    <tr>\n",
       "      <th>0</th>\n",
       "      <td>TOTPOT</td>\n",
       "      <td>0.014754</td>\n",
       "    </tr>\n",
       "    <tr>\n",
       "      <th>1</th>\n",
       "      <td>SAVNCPP</td>\n",
       "      <td>0.012672</td>\n",
       "    </tr>\n",
       "    <tr>\n",
       "      <th>2</th>\n",
       "      <td>TOTBSQ</td>\n",
       "      <td>0.012622</td>\n",
       "    </tr>\n",
       "    <tr>\n",
       "      <th>3</th>\n",
       "      <td>EPSZ</td>\n",
       "      <td>0.010033</td>\n",
       "    </tr>\n",
       "    <tr>\n",
       "      <th>4</th>\n",
       "      <td>TOTFX</td>\n",
       "      <td>0.008288</td>\n",
       "    </tr>\n",
       "  </tbody>\n",
       "</table>\n",
       "</div>"
      ],
      "text/plain": [
       "   Feature     Score\n",
       "0   TOTPOT  0.014754\n",
       "1  SAVNCPP  0.012672\n",
       "2   TOTBSQ  0.012622\n",
       "3     EPSZ  0.010033\n",
       "4    TOTFX  0.008288"
      ]
     },
     "execution_count": 5,
     "metadata": {},
     "output_type": "execute_result"
    }
   ],
   "source": [
    "from src.fss.sfm.sfm import sfm_fi_rank\n",
    "from sklearn.ensemble import RandomForestClassifier\n",
    "\n",
    "rf = RandomForestClassifier(n_estimators=50)\n",
    "sfm_rf_ranks = sfm_fi_rank(rf, vectorized_data, y_train_bin)\n",
    "sfm_rf_ranks.head()\n"
   ]
  },
  {
   "cell_type": "markdown",
   "metadata": {},
   "source": [
    "### Select K Best with MutualInfo"
   ]
  },
  {
   "cell_type": "code",
   "execution_count": 6,
   "metadata": {},
   "outputs": [
    {
     "data": {
      "text/html": [
       "<div>\n",
       "<style scoped>\n",
       "    .dataframe tbody tr th:only-of-type {\n",
       "        vertical-align: middle;\n",
       "    }\n",
       "\n",
       "    .dataframe tbody tr th {\n",
       "        vertical-align: top;\n",
       "    }\n",
       "\n",
       "    .dataframe thead th {\n",
       "        text-align: right;\n",
       "    }\n",
       "</style>\n",
       "<table border=\"1\" class=\"dataframe\">\n",
       "  <thead>\n",
       "    <tr style=\"text-align: right;\">\n",
       "      <th></th>\n",
       "      <th>Feature</th>\n",
       "      <th>Score</th>\n",
       "    </tr>\n",
       "  </thead>\n",
       "  <tbody>\n",
       "    <tr>\n",
       "      <th>0</th>\n",
       "      <td>R_VALUE</td>\n",
       "      <td>0.026740</td>\n",
       "    </tr>\n",
       "    <tr>\n",
       "      <th>1</th>\n",
       "      <td>TOTBSQ</td>\n",
       "      <td>0.023413</td>\n",
       "    </tr>\n",
       "    <tr>\n",
       "      <th>2</th>\n",
       "      <td>TOTPOT</td>\n",
       "      <td>0.023207</td>\n",
       "    </tr>\n",
       "    <tr>\n",
       "      <th>3</th>\n",
       "      <td>TOTUSJH</td>\n",
       "      <td>0.019692</td>\n",
       "    </tr>\n",
       "    <tr>\n",
       "      <th>4</th>\n",
       "      <td>EPSY</td>\n",
       "      <td>0.019596</td>\n",
       "    </tr>\n",
       "  </tbody>\n",
       "</table>\n",
       "</div>"
      ],
      "text/plain": [
       "   Feature     Score\n",
       "0  R_VALUE  0.026740\n",
       "1   TOTBSQ  0.023413\n",
       "2   TOTPOT  0.023207\n",
       "3  TOTUSJH  0.019692\n",
       "4     EPSY  0.019596"
      ]
     },
     "execution_count": 6,
     "metadata": {},
     "output_type": "execute_result"
    }
   ],
   "source": [
    "from src.fss.skb.skb import skb_rank\n",
    "from sklearn.feature_selection import mutual_info_classif\n",
    "\n",
    "skb_mi_ranks = skb_rank(mutual_info_classif, vectorized_data, y_train_bin)\n",
    "skb_mi_ranks.head()"
   ]
  },
  {
   "cell_type": "code",
   "execution_count": null,
   "metadata": {},
   "outputs": [],
   "source": []
  }
 ],
 "metadata": {
  "interpreter": {
   "hash": "b8ff39dbd94b600c1dfd26ca1f40a08db1906b78f5ef21044c766b07bd10525a"
  },
  "kernelspec": {
   "display_name": "Python 3.9.5 64-bit ('base': conda)",
   "language": "python",
   "name": "python3"
  },
  "language_info": {
   "codemirror_mode": {
    "name": "ipython",
    "version": 3
   },
   "file_extension": ".py",
   "mimetype": "text/x-python",
   "name": "python",
   "nbconvert_exporter": "python",
   "pygments_lexer": "ipython3",
   "version": "3.9.5"
  },
  "orig_nbformat": 4
 },
 "nbformat": 4,
 "nbformat_minor": 2
}
